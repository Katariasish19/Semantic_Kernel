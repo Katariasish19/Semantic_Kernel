{
 "cells": [
  {
   "cell_type": "code",
   "execution_count": 1,
   "metadata": {},
   "outputs": [
    {
     "name": "stdout",
     "output_type": "stream",
     "text": [
      "Defaulting to user installation because normal site-packages is not writeable\n",
      "Requirement already satisfied: semantic-kernel in c:\\users\\katari.asish\\appdata\\roaming\\python\\python311\\site-packages (1.1.1)\n",
      "Requirement already satisfied: aiohttp<4.0,>=3.8 in c:\\users\\katari.asish\\appdata\\roaming\\python\\python311\\site-packages (from semantic-kernel) (3.9.3)\n",
      "Requirement already satisfied: defusedxml<0.8.0,>=0.7.1 in c:\\users\\katari.asish\\appdata\\roaming\\python\\python311\\site-packages (from semantic-kernel) (0.7.1)\n",
      "Requirement already satisfied: grpcio>=1.50.0 in c:\\users\\katari.asish\\appdata\\roaming\\python\\python311\\site-packages (from semantic-kernel) (1.62.2)\n",
      "Requirement already satisfied: jinja2<4.0.0,>=3.1.3 in c:\\users\\katari.asish\\appdata\\roaming\\python\\python311\\site-packages (from semantic-kernel) (3.1.4)\n",
      "Requirement already satisfied: motor<4.0.0,>=3.3.2 in c:\\users\\katari.asish\\appdata\\roaming\\python\\python311\\site-packages (from semantic-kernel) (3.4.0)\n",
      "Requirement already satisfied: nest-asyncio<2.0.0,>=1.6.0 in c:\\users\\katari.asish\\appdata\\roaming\\python\\python311\\site-packages (from semantic-kernel) (1.6.0)\n",
      "Requirement already satisfied: numpy>=1.25 in c:\\users\\katari.asish\\appdata\\roaming\\python\\python311\\site-packages (from semantic-kernel) (1.26.2)\n",
      "Requirement already satisfied: openai>=1.0 in c:\\users\\katari.asish\\appdata\\roaming\\python\\python311\\site-packages (from semantic-kernel) (1.23.2)\n",
      "Requirement already satisfied: openapi_core<0.20,>=0.18 in c:\\users\\katari.asish\\appdata\\roaming\\python\\python311\\site-packages (from semantic-kernel) (0.19.2)\n",
      "Requirement already satisfied: prance<24.0.0.0,>=23.6.21.0 in c:\\users\\katari.asish\\appdata\\roaming\\python\\python311\\site-packages (from semantic-kernel) (23.6.21.0)\n",
      "Requirement already satisfied: pybars4<0.10.0,>=0.9.13 in c:\\users\\katari.asish\\appdata\\roaming\\python\\python311\\site-packages (from semantic-kernel) (0.9.13)\n",
      "Requirement already satisfied: pydantic<3,>=2 in c:\\users\\katari.asish\\appdata\\roaming\\python\\python311\\site-packages (from semantic-kernel) (2.7.3)\n",
      "Requirement already satisfied: pydantic-settings<3.0.0,>=2.2.1 in c:\\users\\katari.asish\\appdata\\roaming\\python\\python311\\site-packages (from semantic-kernel) (2.3.2)\n",
      "Requirement already satisfied: regex<2025.0.0,>=2023.6.3 in c:\\users\\katari.asish\\appdata\\roaming\\python\\python311\\site-packages (from semantic-kernel) (2023.12.25)\n",
      "Requirement already satisfied: scipy>=1.5.0 in c:\\users\\katari.asish\\appdata\\roaming\\python\\python311\\site-packages (from semantic-kernel) (1.13.1)\n",
      "Requirement already satisfied: aiosignal>=1.1.2 in c:\\users\\katari.asish\\appdata\\roaming\\python\\python311\\site-packages (from aiohttp<4.0,>=3.8->semantic-kernel) (1.3.1)\n",
      "Requirement already satisfied: attrs>=17.3.0 in c:\\users\\katari.asish\\appdata\\roaming\\python\\python311\\site-packages (from aiohttp<4.0,>=3.8->semantic-kernel) (23.1.0)\n",
      "Requirement already satisfied: frozenlist>=1.1.1 in c:\\users\\katari.asish\\appdata\\roaming\\python\\python311\\site-packages (from aiohttp<4.0,>=3.8->semantic-kernel) (1.4.1)\n",
      "Requirement already satisfied: multidict<7.0,>=4.5 in c:\\users\\katari.asish\\appdata\\roaming\\python\\python311\\site-packages (from aiohttp<4.0,>=3.8->semantic-kernel) (6.0.5)\n",
      "Requirement already satisfied: yarl<2.0,>=1.0 in c:\\users\\katari.asish\\appdata\\roaming\\python\\python311\\site-packages (from aiohttp<4.0,>=3.8->semantic-kernel) (1.9.4)\n",
      "Requirement already satisfied: MarkupSafe>=2.0 in c:\\users\\katari.asish\\appdata\\roaming\\python\\python311\\site-packages (from jinja2<4.0.0,>=3.1.3->semantic-kernel) (2.1.3)\n",
      "Requirement already satisfied: pymongo<5,>=4.5 in c:\\users\\katari.asish\\appdata\\roaming\\python\\python311\\site-packages (from motor<4.0.0,>=3.3.2->semantic-kernel) (4.7.3)\n",
      "Requirement already satisfied: anyio<5,>=3.5.0 in c:\\users\\katari.asish\\appdata\\roaming\\python\\python311\\site-packages (from openai>=1.0->semantic-kernel) (4.2.0)\n",
      "Requirement already satisfied: distro<2,>=1.7.0 in c:\\users\\katari.asish\\appdata\\roaming\\python\\python311\\site-packages (from openai>=1.0->semantic-kernel) (1.9.0)\n",
      "Requirement already satisfied: httpx<1,>=0.23.0 in c:\\users\\katari.asish\\appdata\\roaming\\python\\python311\\site-packages (from openai>=1.0->semantic-kernel) (0.27.0)\n",
      "Requirement already satisfied: sniffio in c:\\users\\katari.asish\\appdata\\roaming\\python\\python311\\site-packages (from openai>=1.0->semantic-kernel) (1.3.0)\n",
      "Requirement already satisfied: tqdm>4 in c:\\users\\katari.asish\\appdata\\roaming\\python\\python311\\site-packages (from openai>=1.0->semantic-kernel) (4.66.2)\n",
      "Requirement already satisfied: typing-extensions<5,>=4.7 in c:\\users\\katari.asish\\appdata\\roaming\\python\\python311\\site-packages (from openai>=1.0->semantic-kernel) (4.11.0)\n",
      "Requirement already satisfied: isodate in c:\\users\\katari.asish\\appdata\\roaming\\python\\python311\\site-packages (from openapi_core<0.20,>=0.18->semantic-kernel) (0.6.1)\n",
      "Requirement already satisfied: jsonschema<5.0.0,>=4.18.0 in c:\\users\\katari.asish\\appdata\\roaming\\python\\python311\\site-packages (from openapi_core<0.20,>=0.18->semantic-kernel) (4.20.0)\n",
      "Requirement already satisfied: jsonschema-path<0.4.0,>=0.3.1 in c:\\users\\katari.asish\\appdata\\roaming\\python\\python311\\site-packages (from openapi_core<0.20,>=0.18->semantic-kernel) (0.3.2)\n",
      "Requirement already satisfied: more-itertools in c:\\users\\katari.asish\\appdata\\roaming\\python\\python311\\site-packages (from openapi_core<0.20,>=0.18->semantic-kernel) (10.3.0)\n",
      "Requirement already satisfied: openapi-schema-validator<0.7.0,>=0.6.0 in c:\\users\\katari.asish\\appdata\\roaming\\python\\python311\\site-packages (from openapi_core<0.20,>=0.18->semantic-kernel) (0.6.2)\n",
      "Requirement already satisfied: openapi-spec-validator<0.8.0,>=0.7.1 in c:\\users\\katari.asish\\appdata\\roaming\\python\\python311\\site-packages (from openapi_core<0.20,>=0.18->semantic-kernel) (0.7.1)\n",
      "Requirement already satisfied: parse in c:\\users\\katari.asish\\appdata\\roaming\\python\\python311\\site-packages (from openapi_core<0.20,>=0.18->semantic-kernel) (1.20.2)\n",
      "Requirement already satisfied: werkzeug in c:\\users\\katari.asish\\appdata\\roaming\\python\\python311\\site-packages (from openapi_core<0.20,>=0.18->semantic-kernel) (2.3.6)\n",
      "Requirement already satisfied: chardet>=3.0 in c:\\users\\katari.asish\\appdata\\roaming\\python\\python311\\site-packages (from prance<24.0.0.0,>=23.6.21.0->semantic-kernel) (5.2.0)\n",
      "Requirement already satisfied: ruamel.yaml>=0.17.10 in c:\\users\\katari.asish\\appdata\\roaming\\python\\python311\\site-packages (from prance<24.0.0.0,>=23.6.21.0->semantic-kernel) (0.18.6)\n",
      "Requirement already satisfied: requests>=2.25 in c:\\users\\katari.asish\\appdata\\roaming\\python\\python311\\site-packages (from prance<24.0.0.0,>=23.6.21.0->semantic-kernel) (2.31.0)\n",
      "Requirement already satisfied: six~=1.15 in c:\\users\\katari.asish\\appdata\\roaming\\python\\python311\\site-packages (from prance<24.0.0.0,>=23.6.21.0->semantic-kernel) (1.16.0)\n",
      "Requirement already satisfied: packaging>=21.3 in c:\\users\\katari.asish\\appdata\\roaming\\python\\python311\\site-packages (from prance<24.0.0.0,>=23.6.21.0->semantic-kernel) (23.2)\n",
      "Requirement already satisfied: PyMeta3>=0.5.1 in c:\\users\\katari.asish\\appdata\\roaming\\python\\python311\\site-packages (from pybars4<0.10.0,>=0.9.13->semantic-kernel) (0.5.1)\n",
      "Requirement already satisfied: annotated-types>=0.4.0 in c:\\users\\katari.asish\\appdata\\roaming\\python\\python311\\site-packages (from pydantic<3,>=2->semantic-kernel) (0.6.0)\n",
      "Requirement already satisfied: pydantic-core==2.18.4 in c:\\users\\katari.asish\\appdata\\roaming\\python\\python311\\site-packages (from pydantic<3,>=2->semantic-kernel) (2.18.4)\n",
      "Requirement already satisfied: python-dotenv>=0.21.0 in c:\\users\\katari.asish\\appdata\\roaming\\python\\python311\\site-packages (from pydantic-settings<3.0.0,>=2.2.1->semantic-kernel) (1.0.1)\n",
      "Requirement already satisfied: idna>=2.8 in c:\\users\\katari.asish\\appdata\\roaming\\python\\python311\\site-packages (from anyio<5,>=3.5.0->openai>=1.0->semantic-kernel) (3.6)\n",
      "Requirement already satisfied: certifi in c:\\users\\katari.asish\\appdata\\roaming\\python\\python311\\site-packages (from httpx<1,>=0.23.0->openai>=1.0->semantic-kernel) (2023.11.17)\n",
      "Requirement already satisfied: httpcore==1.* in c:\\users\\katari.asish\\appdata\\roaming\\python\\python311\\site-packages (from httpx<1,>=0.23.0->openai>=1.0->semantic-kernel) (1.0.5)\n",
      "Requirement already satisfied: h11<0.15,>=0.13 in c:\\users\\katari.asish\\appdata\\roaming\\python\\python311\\site-packages (from httpcore==1.*->httpx<1,>=0.23.0->openai>=1.0->semantic-kernel) (0.14.0)\n",
      "Requirement already satisfied: jsonschema-specifications>=2023.03.6 in c:\\users\\katari.asish\\appdata\\roaming\\python\\python311\\site-packages (from jsonschema<5.0.0,>=4.18.0->openapi_core<0.20,>=0.18->semantic-kernel) (2023.11.2)\n",
      "Requirement already satisfied: referencing>=0.28.4 in c:\\users\\katari.asish\\appdata\\roaming\\python\\python311\\site-packages (from jsonschema<5.0.0,>=4.18.0->openapi_core<0.20,>=0.18->semantic-kernel) (0.31.1)\n",
      "Requirement already satisfied: rpds-py>=0.7.1 in c:\\users\\katari.asish\\appdata\\roaming\\python\\python311\\site-packages (from jsonschema<5.0.0,>=4.18.0->openapi_core<0.20,>=0.18->semantic-kernel) (0.15.2)\n",
      "Requirement already satisfied: PyYAML>=5.1 in c:\\users\\katari.asish\\appdata\\roaming\\python\\python311\\site-packages (from jsonschema-path<0.4.0,>=0.3.1->openapi_core<0.20,>=0.18->semantic-kernel) (6.0.1)\n",
      "Requirement already satisfied: pathable<0.5.0,>=0.4.1 in c:\\users\\katari.asish\\appdata\\roaming\\python\\python311\\site-packages (from jsonschema-path<0.4.0,>=0.3.1->openapi_core<0.20,>=0.18->semantic-kernel) (0.4.3)\n",
      "Requirement already satisfied: rfc3339-validator in c:\\users\\katari.asish\\appdata\\roaming\\python\\python311\\site-packages (from openapi-schema-validator<0.7.0,>=0.6.0->openapi_core<0.20,>=0.18->semantic-kernel) (0.1.4)\n",
      "Requirement already satisfied: lazy-object-proxy<2.0.0,>=1.7.1 in c:\\users\\katari.asish\\appdata\\roaming\\python\\python311\\site-packages (from openapi-spec-validator<0.8.0,>=0.7.1->openapi_core<0.20,>=0.18->semantic-kernel) (1.10.0)\n",
      "Requirement already satisfied: dnspython<3.0.0,>=1.16.0 in c:\\users\\katari.asish\\appdata\\roaming\\python\\python311\\site-packages (from pymongo<5,>=4.5->motor<4.0.0,>=3.3.2->semantic-kernel) (2.3.0)\n",
      "Requirement already satisfied: charset-normalizer<4,>=2 in c:\\users\\katari.asish\\appdata\\roaming\\python\\python311\\site-packages (from requests>=2.25->prance<24.0.0.0,>=23.6.21.0->semantic-kernel) (3.3.2)\n",
      "Requirement already satisfied: urllib3<3,>=1.21.1 in c:\\users\\katari.asish\\appdata\\roaming\\python\\python311\\site-packages (from requests>=2.25->prance<24.0.0.0,>=23.6.21.0->semantic-kernel) (1.26.18)\n",
      "Requirement already satisfied: ruamel.yaml.clib>=0.2.7 in c:\\users\\katari.asish\\appdata\\roaming\\python\\python311\\site-packages (from ruamel.yaml>=0.17.10->prance<24.0.0.0,>=23.6.21.0->semantic-kernel) (0.2.8)\n",
      "Requirement already satisfied: colorama in c:\\users\\katari.asish\\appdata\\roaming\\python\\python311\\site-packages (from tqdm>4->openai>=1.0->semantic-kernel) (0.4.6)\n",
      "Note: you may need to restart the kernel to use updated packages.\n"
     ]
    }
   ],
   "source": [
    "%pip install semantic-kernel"
   ]
  },
  {
   "cell_type": "code",
   "execution_count": 2,
   "metadata": {},
   "outputs": [
    {
     "name": "stdout",
     "output_type": "stream",
     "text": [
      "Defaulting to user installation because normal site-packages is not writeable\n",
      "Requirement already satisfied: semantic-kernel in c:\\users\\katari.asish\\appdata\\roaming\\python\\python311\\site-packages (1.1.1)\n",
      "Requirement already satisfied: aiohttp<4.0,>=3.8 in c:\\users\\katari.asish\\appdata\\roaming\\python\\python311\\site-packages (from semantic-kernel) (3.9.3)\n",
      "Requirement already satisfied: defusedxml<0.8.0,>=0.7.1 in c:\\users\\katari.asish\\appdata\\roaming\\python\\python311\\site-packages (from semantic-kernel) (0.7.1)\n",
      "Requirement already satisfied: grpcio>=1.50.0 in c:\\users\\katari.asish\\appdata\\roaming\\python\\python311\\site-packages (from semantic-kernel) (1.62.2)\n",
      "Requirement already satisfied: jinja2<4.0.0,>=3.1.3 in c:\\users\\katari.asish\\appdata\\roaming\\python\\python311\\site-packages (from semantic-kernel) (3.1.4)\n",
      "Requirement already satisfied: motor<4.0.0,>=3.3.2 in c:\\users\\katari.asish\\appdata\\roaming\\python\\python311\\site-packages (from semantic-kernel) (3.4.0)\n",
      "Requirement already satisfied: nest-asyncio<2.0.0,>=1.6.0 in c:\\users\\katari.asish\\appdata\\roaming\\python\\python311\\site-packages (from semantic-kernel) (1.6.0)\n",
      "Requirement already satisfied: numpy>=1.25 in c:\\users\\katari.asish\\appdata\\roaming\\python\\python311\\site-packages (from semantic-kernel) (1.26.2)\n",
      "Requirement already satisfied: openai>=1.0 in c:\\users\\katari.asish\\appdata\\roaming\\python\\python311\\site-packages (from semantic-kernel) (1.23.2)\n",
      "Requirement already satisfied: openapi_core<0.20,>=0.18 in c:\\users\\katari.asish\\appdata\\roaming\\python\\python311\\site-packages (from semantic-kernel) (0.19.2)\n",
      "Requirement already satisfied: prance<24.0.0.0,>=23.6.21.0 in c:\\users\\katari.asish\\appdata\\roaming\\python\\python311\\site-packages (from semantic-kernel) (23.6.21.0)\n",
      "Requirement already satisfied: pybars4<0.10.0,>=0.9.13 in c:\\users\\katari.asish\\appdata\\roaming\\python\\python311\\site-packages (from semantic-kernel) (0.9.13)\n",
      "Requirement already satisfied: pydantic<3,>=2 in c:\\users\\katari.asish\\appdata\\roaming\\python\\python311\\site-packages (from semantic-kernel) (2.7.3)\n",
      "Requirement already satisfied: pydantic-settings<3.0.0,>=2.2.1 in c:\\users\\katari.asish\\appdata\\roaming\\python\\python311\\site-packages (from semantic-kernel) (2.3.2)\n",
      "Requirement already satisfied: regex<2025.0.0,>=2023.6.3 in c:\\users\\katari.asish\\appdata\\roaming\\python\\python311\\site-packages (from semantic-kernel) (2023.12.25)\n",
      "Requirement already satisfied: scipy>=1.5.0 in c:\\users\\katari.asish\\appdata\\roaming\\python\\python311\\site-packages (from semantic-kernel) (1.13.1)\n",
      "Requirement already satisfied: aiosignal>=1.1.2 in c:\\users\\katari.asish\\appdata\\roaming\\python\\python311\\site-packages (from aiohttp<4.0,>=3.8->semantic-kernel) (1.3.1)\n",
      "Requirement already satisfied: attrs>=17.3.0 in c:\\users\\katari.asish\\appdata\\roaming\\python\\python311\\site-packages (from aiohttp<4.0,>=3.8->semantic-kernel) (23.1.0)\n",
      "Requirement already satisfied: frozenlist>=1.1.1 in c:\\users\\katari.asish\\appdata\\roaming\\python\\python311\\site-packages (from aiohttp<4.0,>=3.8->semantic-kernel) (1.4.1)\n",
      "Requirement already satisfied: multidict<7.0,>=4.5 in c:\\users\\katari.asish\\appdata\\roaming\\python\\python311\\site-packages (from aiohttp<4.0,>=3.8->semantic-kernel) (6.0.5)\n",
      "Requirement already satisfied: yarl<2.0,>=1.0 in c:\\users\\katari.asish\\appdata\\roaming\\python\\python311\\site-packages (from aiohttp<4.0,>=3.8->semantic-kernel) (1.9.4)\n",
      "Requirement already satisfied: MarkupSafe>=2.0 in c:\\users\\katari.asish\\appdata\\roaming\\python\\python311\\site-packages (from jinja2<4.0.0,>=3.1.3->semantic-kernel) (2.1.3)\n",
      "Requirement already satisfied: pymongo<5,>=4.5 in c:\\users\\katari.asish\\appdata\\roaming\\python\\python311\\site-packages (from motor<4.0.0,>=3.3.2->semantic-kernel) (4.7.3)\n",
      "Requirement already satisfied: anyio<5,>=3.5.0 in c:\\users\\katari.asish\\appdata\\roaming\\python\\python311\\site-packages (from openai>=1.0->semantic-kernel) (4.2.0)\n",
      "Requirement already satisfied: distro<2,>=1.7.0 in c:\\users\\katari.asish\\appdata\\roaming\\python\\python311\\site-packages (from openai>=1.0->semantic-kernel) (1.9.0)\n",
      "Requirement already satisfied: httpx<1,>=0.23.0 in c:\\users\\katari.asish\\appdata\\roaming\\python\\python311\\site-packages (from openai>=1.0->semantic-kernel) (0.27.0)\n",
      "Requirement already satisfied: sniffio in c:\\users\\katari.asish\\appdata\\roaming\\python\\python311\\site-packages (from openai>=1.0->semantic-kernel) (1.3.0)\n",
      "Requirement already satisfied: tqdm>4 in c:\\users\\katari.asish\\appdata\\roaming\\python\\python311\\site-packages (from openai>=1.0->semantic-kernel) (4.66.2)\n",
      "Requirement already satisfied: typing-extensions<5,>=4.7 in c:\\users\\katari.asish\\appdata\\roaming\\python\\python311\\site-packages (from openai>=1.0->semantic-kernel) (4.11.0)\n",
      "Requirement already satisfied: isodate in c:\\users\\katari.asish\\appdata\\roaming\\python\\python311\\site-packages (from openapi_core<0.20,>=0.18->semantic-kernel) (0.6.1)\n",
      "Requirement already satisfied: jsonschema<5.0.0,>=4.18.0 in c:\\users\\katari.asish\\appdata\\roaming\\python\\python311\\site-packages (from openapi_core<0.20,>=0.18->semantic-kernel) (4.20.0)\n",
      "Requirement already satisfied: jsonschema-path<0.4.0,>=0.3.1 in c:\\users\\katari.asish\\appdata\\roaming\\python\\python311\\site-packages (from openapi_core<0.20,>=0.18->semantic-kernel) (0.3.2)\n",
      "Requirement already satisfied: more-itertools in c:\\users\\katari.asish\\appdata\\roaming\\python\\python311\\site-packages (from openapi_core<0.20,>=0.18->semantic-kernel) (10.3.0)\n",
      "Requirement already satisfied: openapi-schema-validator<0.7.0,>=0.6.0 in c:\\users\\katari.asish\\appdata\\roaming\\python\\python311\\site-packages (from openapi_core<0.20,>=0.18->semantic-kernel) (0.6.2)\n",
      "Requirement already satisfied: openapi-spec-validator<0.8.0,>=0.7.1 in c:\\users\\katari.asish\\appdata\\roaming\\python\\python311\\site-packages (from openapi_core<0.20,>=0.18->semantic-kernel) (0.7.1)\n",
      "Requirement already satisfied: parse in c:\\users\\katari.asish\\appdata\\roaming\\python\\python311\\site-packages (from openapi_core<0.20,>=0.18->semantic-kernel) (1.20.2)\n",
      "Requirement already satisfied: werkzeug in c:\\users\\katari.asish\\appdata\\roaming\\python\\python311\\site-packages (from openapi_core<0.20,>=0.18->semantic-kernel) (2.3.6)\n",
      "Requirement already satisfied: chardet>=3.0 in c:\\users\\katari.asish\\appdata\\roaming\\python\\python311\\site-packages (from prance<24.0.0.0,>=23.6.21.0->semantic-kernel) (5.2.0)\n",
      "Requirement already satisfied: ruamel.yaml>=0.17.10 in c:\\users\\katari.asish\\appdata\\roaming\\python\\python311\\site-packages (from prance<24.0.0.0,>=23.6.21.0->semantic-kernel) (0.18.6)\n",
      "Requirement already satisfied: requests>=2.25 in c:\\users\\katari.asish\\appdata\\roaming\\python\\python311\\site-packages (from prance<24.0.0.0,>=23.6.21.0->semantic-kernel) (2.31.0)\n",
      "Requirement already satisfied: six~=1.15 in c:\\users\\katari.asish\\appdata\\roaming\\python\\python311\\site-packages (from prance<24.0.0.0,>=23.6.21.0->semantic-kernel) (1.16.0)\n",
      "Requirement already satisfied: packaging>=21.3 in c:\\users\\katari.asish\\appdata\\roaming\\python\\python311\\site-packages (from prance<24.0.0.0,>=23.6.21.0->semantic-kernel) (23.2)\n",
      "Requirement already satisfied: PyMeta3>=0.5.1 in c:\\users\\katari.asish\\appdata\\roaming\\python\\python311\\site-packages (from pybars4<0.10.0,>=0.9.13->semantic-kernel) (0.5.1)\n",
      "Requirement already satisfied: annotated-types>=0.4.0 in c:\\users\\katari.asish\\appdata\\roaming\\python\\python311\\site-packages (from pydantic<3,>=2->semantic-kernel) (0.6.0)\n",
      "Requirement already satisfied: pydantic-core==2.18.4 in c:\\users\\katari.asish\\appdata\\roaming\\python\\python311\\site-packages (from pydantic<3,>=2->semantic-kernel) (2.18.4)\n",
      "Requirement already satisfied: python-dotenv>=0.21.0 in c:\\users\\katari.asish\\appdata\\roaming\\python\\python311\\site-packages (from pydantic-settings<3.0.0,>=2.2.1->semantic-kernel) (1.0.1)\n",
      "Requirement already satisfied: idna>=2.8 in c:\\users\\katari.asish\\appdata\\roaming\\python\\python311\\site-packages (from anyio<5,>=3.5.0->openai>=1.0->semantic-kernel) (3.6)\n",
      "Requirement already satisfied: certifi in c:\\users\\katari.asish\\appdata\\roaming\\python\\python311\\site-packages (from httpx<1,>=0.23.0->openai>=1.0->semantic-kernel) (2023.11.17)\n",
      "Requirement already satisfied: httpcore==1.* in c:\\users\\katari.asish\\appdata\\roaming\\python\\python311\\site-packages (from httpx<1,>=0.23.0->openai>=1.0->semantic-kernel) (1.0.5)\n",
      "Requirement already satisfied: h11<0.15,>=0.13 in c:\\users\\katari.asish\\appdata\\roaming\\python\\python311\\site-packages (from httpcore==1.*->httpx<1,>=0.23.0->openai>=1.0->semantic-kernel) (0.14.0)\n",
      "Requirement already satisfied: jsonschema-specifications>=2023.03.6 in c:\\users\\katari.asish\\appdata\\roaming\\python\\python311\\site-packages (from jsonschema<5.0.0,>=4.18.0->openapi_core<0.20,>=0.18->semantic-kernel) (2023.11.2)\n",
      "Requirement already satisfied: referencing>=0.28.4 in c:\\users\\katari.asish\\appdata\\roaming\\python\\python311\\site-packages (from jsonschema<5.0.0,>=4.18.0->openapi_core<0.20,>=0.18->semantic-kernel) (0.31.1)\n",
      "Requirement already satisfied: rpds-py>=0.7.1 in c:\\users\\katari.asish\\appdata\\roaming\\python\\python311\\site-packages (from jsonschema<5.0.0,>=4.18.0->openapi_core<0.20,>=0.18->semantic-kernel) (0.15.2)\n",
      "Requirement already satisfied: PyYAML>=5.1 in c:\\users\\katari.asish\\appdata\\roaming\\python\\python311\\site-packages (from jsonschema-path<0.4.0,>=0.3.1->openapi_core<0.20,>=0.18->semantic-kernel) (6.0.1)\n",
      "Requirement already satisfied: pathable<0.5.0,>=0.4.1 in c:\\users\\katari.asish\\appdata\\roaming\\python\\python311\\site-packages (from jsonschema-path<0.4.0,>=0.3.1->openapi_core<0.20,>=0.18->semantic-kernel) (0.4.3)\n",
      "Requirement already satisfied: rfc3339-validator in c:\\users\\katari.asish\\appdata\\roaming\\python\\python311\\site-packages (from openapi-schema-validator<0.7.0,>=0.6.0->openapi_core<0.20,>=0.18->semantic-kernel) (0.1.4)\n",
      "Requirement already satisfied: lazy-object-proxy<2.0.0,>=1.7.1 in c:\\users\\katari.asish\\appdata\\roaming\\python\\python311\\site-packages (from openapi-spec-validator<0.8.0,>=0.7.1->openapi_core<0.20,>=0.18->semantic-kernel) (1.10.0)\n",
      "Requirement already satisfied: dnspython<3.0.0,>=1.16.0 in c:\\users\\katari.asish\\appdata\\roaming\\python\\python311\\site-packages (from pymongo<5,>=4.5->motor<4.0.0,>=3.3.2->semantic-kernel) (2.3.0)\n",
      "Requirement already satisfied: charset-normalizer<4,>=2 in c:\\users\\katari.asish\\appdata\\roaming\\python\\python311\\site-packages (from requests>=2.25->prance<24.0.0.0,>=23.6.21.0->semantic-kernel) (3.3.2)\n",
      "Requirement already satisfied: urllib3<3,>=1.21.1 in c:\\users\\katari.asish\\appdata\\roaming\\python\\python311\\site-packages (from requests>=2.25->prance<24.0.0.0,>=23.6.21.0->semantic-kernel) (1.26.18)\n",
      "Requirement already satisfied: ruamel.yaml.clib>=0.2.7 in c:\\users\\katari.asish\\appdata\\roaming\\python\\python311\\site-packages (from ruamel.yaml>=0.17.10->prance<24.0.0.0,>=23.6.21.0->semantic-kernel) (0.2.8)\n",
      "Requirement already satisfied: colorama in c:\\users\\katari.asish\\appdata\\roaming\\python\\python311\\site-packages (from tqdm>4->openai>=1.0->semantic-kernel) (0.4.6)\n",
      "Note: you may need to restart the kernel to use updated packages.\n"
     ]
    }
   ],
   "source": [
    "%pip install --upgrade semantic-kernel"
   ]
  },
  {
   "cell_type": "code",
   "execution_count": 3,
   "metadata": {},
   "outputs": [
    {
     "name": "stdout",
     "output_type": "stream",
     "text": [
      "Defaulting to user installation because normal site-packages is not writeable\n",
      "Requirement already satisfied: python-dotenv in c:\\users\\katari.asish\\appdata\\roaming\\python\\python311\\site-packages (1.0.1)\n",
      "Note: you may need to restart the kernel to use updated packages.\n"
     ]
    }
   ],
   "source": [
    "%pip install python-dotenv"
   ]
  },
  {
   "cell_type": "code",
   "execution_count": 1,
   "metadata": {},
   "outputs": [],
   "source": [
    "import os\n",
    "import sys\n",
    "\n",
    "notebook_dir = os.path.abspath(\"C:\\\\Users\\\\katari.asish\\\\.vscode\\\\Semantic_Kernel\\\\Sk.ipynb\")\n",
    "parent_dir = os.path.dirname(notebook_dir)\n",
    "grandparent_dir = os.path.dirname(parent_dir)\n",
    "\n",
    "\n",
    "sys.path.append(grandparent_dir)"
   ]
  },
  {
   "cell_type": "code",
   "execution_count": 2,
   "metadata": {},
   "outputs": [],
   "source": [
    "#import semantic_kernel as sk\n",
    "import asyncio\n",
    "from semantic_kernel import Kernel\n",
    "from semantic_kernel.connectors.ai.open_ai import AzureChatCompletion\n",
    "from semantic_kernel.prompt_template import PromptTemplateConfig\n",
    "from dotenv import dotenv_values\n",
    "\n",
    "\n",
    "config = dotenv_values(\"Configuration.env\")\n",
    "kernel = Kernel()\n"
   ]
  },
  {
   "cell_type": "code",
   "execution_count": 3,
   "metadata": {},
   "outputs": [],
   "source": [
    "from semantic_kernel.contents.chat_history import ChatHistory  \n",
    "from semantic_kernel.functions.kernel_arguments import KernelArguments  \n",
    "from semantic_kernel.prompt_template.input_variable import InputVariable"
   ]
  },
  {
   "cell_type": "code",
   "execution_count": 4,
   "metadata": {},
   "outputs": [],
   "source": [
    "ask = \"\"\"\n",
    "I want to get a list of ideas to become a cricket analyst.\n",
    "\"\"\""
   ]
  },
  {
   "cell_type": "code",
   "execution_count": 5,
   "metadata": {},
   "outputs": [],
   "source": [
    "from semantic_kernel.connectors.ai.open_ai import AzureChatPromptExecutionSettings\n",
    "from semantic_kernel.core_plugins.text_plugin import TextPlugin\n",
    "from semantic_kernel.functions.kernel_function_from_prompt import KernelFunctionFromPrompt\n",
    "from semantic_kernel.kernel import Kernel\n",
    "import traceback"
   ]
  },
  {
   "cell_type": "code",
   "execution_count": 6,
   "metadata": {},
   "outputs": [],
   "source": [
    "kernel.add_service(\n",
    "    AzureChatCompletion(\n",
    "        service_id=\"Cricket\",\n",
    "        deployment_name=config[\"AZURE_OPENAI_TEXT_DEPLOYMENT_NAME\"],\n",
    "        api_key=config[\"AZURE_OPENAI_API_KEY\"],\n",
    "        api_version=config[\"AZURE_OPENAI_API_VERSION\"],\n",
    "        endpoint=config[\"AZURE_OPENAI_ENDPOINT\"]\n",
    "    )\n",
    ")"
   ]
  },
  {
   "cell_type": "code",
   "execution_count": 7,
   "metadata": {},
   "outputs": [
    {
     "name": "stdout",
     "output_type": "stream",
     "text": [
      "Plugin: SummarizePlugin, Function: Summarize\n",
      "Plugin: WriterPlugin, Function: Brainstorm\n",
      "Plugin: WriterPlugin, Function: Cricket\n",
      "Plugin: TextPlugin, Function: lowercase\n",
      "Plugin: TextPlugin, Function: trim\n",
      "Plugin: TextPlugin, Function: trim_end\n",
      "Plugin: TextPlugin, Function: trim_start\n",
      "Plugin: TextPlugin, Function: uppercase\n"
     ]
    }
   ],
   "source": [
    "plugins_directory = \"Prompt_template/\"\n",
    "summarize_plugin = kernel.add_plugin(plugin_name=\"SummarizePlugin\", parent_directory=plugins_directory)\n",
    "writer_plugin = kernel.add_plugin(\n",
    "    plugin_name=\"WriterPlugin\",\n",
    "    parent_directory=plugins_directory,\n",
    ")\n",
    "text_plugin = kernel.add_plugin(plugin=TextPlugin(), plugin_name=\"TextPlugin\")\n",
    "cricket_func = KernelFunctionFromPrompt(\n",
    "    function_name=\"Cricket\",\n",
    "    plugin_name=\"WriterPlugin\",\n",
    "    prompt=\"\"\"\n",
    "{{$input}}\n",
    "\n",
    "Give ideas to become a cricket analyst.\n",
    "\n",
    "\"\"\",\n",
    "     prompt_execution_settings=AzureChatPromptExecutionSettings(\n",
    "        service_id=\"Cricket\",\n",
    "        max_tokens=2000,\n",
    "        temperature=0.8,\n",
    "    ),\n",
    "    description=\"Give ideas to become a cricket analyst.\",\n",
    ")\n",
    "kernel.add_function(plugin_name=\"WriterPlugin\", function=cricket_func)\n",
    "\n",
    "for plugin_name, plugin in kernel.plugins.items():\n",
    "   for function_name, function in plugin.functions.items():\n",
    "       print(f\"Plugin: {plugin_name}, Function: {function_name}\")\n",
    "\n"
   ]
  },
  {
   "cell_type": "code",
   "execution_count": 8,
   "metadata": {},
   "outputs": [],
   "source": [
    "from semantic_kernel.planners import SequentialPlanner\n",
    "\n",
    "planner = SequentialPlanner(kernel, service_id=\"Cricket\")"
   ]
  },
  {
   "cell_type": "code",
   "execution_count": 9,
   "metadata": {},
   "outputs": [],
   "source": [
    "sequential_plan = await planner.create_plan(goal=ask)"
   ]
  },
  {
   "cell_type": "code",
   "execution_count": 10,
   "metadata": {},
   "outputs": [
    {
     "name": "stdout",
     "output_type": "stream",
     "text": [
      "The plan's steps are:\n",
      "- Convert a string to lowercase using TextPlugin-lowercase with parameters: {'input': '$INPUT'}\n",
      "- Trim whitespace from the start and end of a string using TextPlugin-trim with parameters: {'input': '$LOWER_GOAL'}\n",
      "- Give ideas to become a cricket analyst using WriterPlugin-Cricket with parameters: {'input': '$TRIMMED_GOAL'}\n"
     ]
    }
   ],
   "source": [
    "print(\"The plan's steps are:\")\n",
    "for step in sequential_plan._steps:\n",
    "    print(\n",
    "        f\"- {step.description.replace('.', '') if step.description else 'No description'} using {step.metadata.fully_qualified_name} with parameters: {step.parameters}\"\n",
    "    )"
   ]
  },
  {
   "cell_type": "code",
   "execution_count": 11,
   "metadata": {},
   "outputs": [
    {
     "name": "stdout",
     "output_type": "stream",
     "text": [
      "1. Gain a deep understanding of cricket: To become a cricket analyst, you need to have an in-depth knowledge of the game, its rules, technicalities, and strategies. You need to watch as many matches as you can, read books, blogs, and articles related to cricket, and follow the latest news and updates.\n",
      "\n",
      "2. Develop analytical skills: As a cricket analyst, you need to have excellent analytical skills to examine and interpret the data and statistics related to the game. You should be able to identify patterns, trends, and anomalies in the game, and provide insights and recommendations accordingly.\n",
      "\n",
      "3. Good Communication: Communication is another important skill that you will need as a cricket analyst. You must be able to express your thoughts and ideas clearly and succinctly, both orally and in writing.\n",
      "\n",
      "4. Technology: Being familiar with the latest technologies, software, and tools used in cricket analysis is essential. You should have a good understanding of statistical software packages, data visualization tools, and other technologies that can help you analyze the game more effectively.\n",
      "\n",
      "5. Networking: As a cricket analyst, it is essential to network with other analysts, coaches, players, and cricket enthusiasts. Attending cricket conferences, participating in online forums, and staying active on social media platforms can help you build a strong network and stay up-to-date with the latest trends.\n",
      "\n",
      "6. Keep learning: Finally, it is essential to keep learning and updating your knowledge and skills as a cricket analyst. Attend training sessions, read books, and follow the latest trends to stay ahead of the curve.\n"
     ]
    }
   ],
   "source": [
    "result = await sequential_plan.invoke(kernel)\n",
    "\n",
    "print(result)"
   ]
  }
 ],
 "metadata": {
  "kernelspec": {
   "display_name": "Python 3",
   "language": "python",
   "name": "python3"
  },
  "language_info": {
   "codemirror_mode": {
    "name": "ipython",
    "version": 3
   },
   "file_extension": ".py",
   "mimetype": "text/x-python",
   "name": "python",
   "nbconvert_exporter": "python",
   "pygments_lexer": "ipython3",
   "version": "3.11.2"
  }
 },
 "nbformat": 4,
 "nbformat_minor": 2
}
