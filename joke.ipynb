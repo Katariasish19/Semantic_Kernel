{
 "cells": [
  {
   "cell_type": "code",
   "execution_count": 1,
   "metadata": {},
   "outputs": [
    {
     "name": "stdout",
     "output_type": "stream",
     "text": [
      "Defaulting to user installation because normal site-packages is not writeableNote: you may need to restart the kernel to use updated packages.\n",
      "\n",
      "Requirement already satisfied: semantic_kernel==1.1.1 in c:\\users\\katari.asish\\appdata\\roaming\\python\\python311\\site-packages (1.1.1)\n",
      "Requirement already satisfied: aiohttp<4.0,>=3.8 in c:\\users\\katari.asish\\appdata\\roaming\\python\\python311\\site-packages (from semantic_kernel==1.1.1) (3.9.3)\n",
      "Requirement already satisfied: defusedxml<0.8.0,>=0.7.1 in c:\\users\\katari.asish\\appdata\\roaming\\python\\python311\\site-packages (from semantic_kernel==1.1.1) (0.7.1)\n",
      "Requirement already satisfied: grpcio>=1.50.0 in c:\\users\\katari.asish\\appdata\\roaming\\python\\python311\\site-packages (from semantic_kernel==1.1.1) (1.62.2)\n",
      "Requirement already satisfied: jinja2<4.0.0,>=3.1.3 in c:\\users\\katari.asish\\appdata\\roaming\\python\\python311\\site-packages (from semantic_kernel==1.1.1) (3.1.4)\n",
      "Requirement already satisfied: motor<4.0.0,>=3.3.2 in c:\\users\\katari.asish\\appdata\\roaming\\python\\python311\\site-packages (from semantic_kernel==1.1.1) (3.4.0)\n",
      "Requirement already satisfied: nest-asyncio<2.0.0,>=1.6.0 in c:\\users\\katari.asish\\appdata\\roaming\\python\\python311\\site-packages (from semantic_kernel==1.1.1) (1.6.0)\n",
      "Requirement already satisfied: numpy>=1.25 in c:\\users\\katari.asish\\appdata\\roaming\\python\\python311\\site-packages (from semantic_kernel==1.1.1) (1.26.2)\n",
      "Requirement already satisfied: openai>=1.0 in c:\\users\\katari.asish\\appdata\\roaming\\python\\python311\\site-packages (from semantic_kernel==1.1.1) (1.23.2)\n",
      "Requirement already satisfied: openapi_core<0.20,>=0.18 in c:\\users\\katari.asish\\appdata\\roaming\\python\\python311\\site-packages (from semantic_kernel==1.1.1) (0.18.2)\n",
      "Requirement already satisfied: prance<24.0.0.0,>=23.6.21.0 in c:\\users\\katari.asish\\appdata\\roaming\\python\\python311\\site-packages (from semantic_kernel==1.1.1) (23.6.21.0)\n",
      "Requirement already satisfied: pybars4<0.10.0,>=0.9.13 in c:\\users\\katari.asish\\appdata\\roaming\\python\\python311\\site-packages (from semantic_kernel==1.1.1) (0.9.13)\n",
      "Requirement already satisfied: pydantic<3,>=2 in c:\\users\\katari.asish\\appdata\\roaming\\python\\python311\\site-packages (from semantic_kernel==1.1.1) (2.7.3)\n",
      "Requirement already satisfied: pydantic-settings<3.0.0,>=2.2.1 in c:\\users\\katari.asish\\appdata\\roaming\\python\\python311\\site-packages (from semantic_kernel==1.1.1) (2.3.2)\n",
      "Requirement already satisfied: regex<2025.0.0,>=2023.6.3 in c:\\users\\katari.asish\\appdata\\roaming\\python\\python311\\site-packages (from semantic_kernel==1.1.1) (2023.12.25)\n",
      "Requirement already satisfied: scipy>=1.5.0 in c:\\users\\katari.asish\\appdata\\roaming\\python\\python311\\site-packages (from semantic_kernel==1.1.1) (1.13.1)\n",
      "Requirement already satisfied: aiosignal>=1.1.2 in c:\\users\\katari.asish\\appdata\\roaming\\python\\python311\\site-packages (from aiohttp<4.0,>=3.8->semantic_kernel==1.1.1) (1.3.1)\n",
      "Requirement already satisfied: attrs>=17.3.0 in c:\\users\\katari.asish\\appdata\\roaming\\python\\python311\\site-packages (from aiohttp<4.0,>=3.8->semantic_kernel==1.1.1) (23.1.0)\n",
      "Requirement already satisfied: frozenlist>=1.1.1 in c:\\users\\katari.asish\\appdata\\roaming\\python\\python311\\site-packages (from aiohttp<4.0,>=3.8->semantic_kernel==1.1.1) (1.4.1)\n",
      "Requirement already satisfied: multidict<7.0,>=4.5 in c:\\users\\katari.asish\\appdata\\roaming\\python\\python311\\site-packages (from aiohttp<4.0,>=3.8->semantic_kernel==1.1.1) (6.0.5)\n",
      "Requirement already satisfied: yarl<2.0,>=1.0 in c:\\users\\katari.asish\\appdata\\roaming\\python\\python311\\site-packages (from aiohttp<4.0,>=3.8->semantic_kernel==1.1.1) (1.9.4)\n",
      "Requirement already satisfied: MarkupSafe>=2.0 in c:\\users\\katari.asish\\appdata\\roaming\\python\\python311\\site-packages (from jinja2<4.0.0,>=3.1.3->semantic_kernel==1.1.1) (2.1.3)\n",
      "Requirement already satisfied: pymongo<5,>=4.5 in c:\\users\\katari.asish\\appdata\\roaming\\python\\python311\\site-packages (from motor<4.0.0,>=3.3.2->semantic_kernel==1.1.1) (4.7.3)\n",
      "Requirement already satisfied: anyio<5,>=3.5.0 in c:\\users\\katari.asish\\appdata\\roaming\\python\\python311\\site-packages (from openai>=1.0->semantic_kernel==1.1.1) (4.2.0)\n",
      "Requirement already satisfied: distro<2,>=1.7.0 in c:\\users\\katari.asish\\appdata\\roaming\\python\\python311\\site-packages (from openai>=1.0->semantic_kernel==1.1.1) (1.9.0)\n",
      "Requirement already satisfied: httpx<1,>=0.23.0 in c:\\users\\katari.asish\\appdata\\roaming\\python\\python311\\site-packages (from openai>=1.0->semantic_kernel==1.1.1) (0.27.0)\n",
      "Requirement already satisfied: sniffio in c:\\users\\katari.asish\\appdata\\roaming\\python\\python311\\site-packages (from openai>=1.0->semantic_kernel==1.1.1) (1.3.0)\n",
      "Requirement already satisfied: tqdm>4 in c:\\users\\katari.asish\\appdata\\roaming\\python\\python311\\site-packages (from openai>=1.0->semantic_kernel==1.1.1) (4.66.2)\n",
      "Requirement already satisfied: typing-extensions<5,>=4.7 in c:\\users\\katari.asish\\appdata\\roaming\\python\\python311\\site-packages (from openai>=1.0->semantic_kernel==1.1.1) (4.11.0)\n",
      "Requirement already satisfied: asgiref<4.0.0,>=3.6.0 in c:\\users\\katari.asish\\appdata\\roaming\\python\\python311\\site-packages (from openapi_core<0.20,>=0.18->semantic_kernel==1.1.1) (3.7.2)\n",
      "Requirement already satisfied: isodate in c:\\users\\katari.asish\\appdata\\roaming\\python\\python311\\site-packages (from openapi_core<0.20,>=0.18->semantic_kernel==1.1.1) (0.6.1)\n",
      "Requirement already satisfied: jsonschema<5.0.0,>=4.18.0 in c:\\users\\katari.asish\\appdata\\roaming\\python\\python311\\site-packages (from openapi_core<0.20,>=0.18->semantic_kernel==1.1.1) (4.20.0)\n",
      "Requirement already satisfied: jsonschema-spec<0.3.0,>=0.2.3 in c:\\users\\katari.asish\\appdata\\roaming\\python\\python311\\site-packages (from openapi_core<0.20,>=0.18->semantic_kernel==1.1.1) (0.2.4)\n",
      "Requirement already satisfied: more-itertools in c:\\users\\katari.asish\\appdata\\roaming\\python\\python311\\site-packages (from openapi_core<0.20,>=0.18->semantic_kernel==1.1.1) (10.3.0)\n",
      "Requirement already satisfied: openapi-schema-validator<0.7.0,>=0.6.0 in c:\\users\\katari.asish\\appdata\\roaming\\python\\python311\\site-packages (from openapi_core<0.20,>=0.18->semantic_kernel==1.1.1) (0.6.2)\n",
      "Requirement already satisfied: openapi-spec-validator<0.8.0,>=0.7.1 in c:\\users\\katari.asish\\appdata\\roaming\\python\\python311\\site-packages (from openapi_core<0.20,>=0.18->semantic_kernel==1.1.1) (0.7.1)\n",
      "Requirement already satisfied: parse in c:\\users\\katari.asish\\appdata\\roaming\\python\\python311\\site-packages (from openapi_core<0.20,>=0.18->semantic_kernel==1.1.1) (1.20.2)\n",
      "Requirement already satisfied: werkzeug in c:\\users\\katari.asish\\appdata\\roaming\\python\\python311\\site-packages (from openapi_core<0.20,>=0.18->semantic_kernel==1.1.1) (2.3.6)\n",
      "Requirement already satisfied: chardet>=3.0 in c:\\users\\katari.asish\\appdata\\roaming\\python\\python311\\site-packages (from prance<24.0.0.0,>=23.6.21.0->semantic_kernel==1.1.1) (5.2.0)\n",
      "Requirement already satisfied: ruamel.yaml>=0.17.10 in c:\\users\\katari.asish\\appdata\\roaming\\python\\python311\\site-packages (from prance<24.0.0.0,>=23.6.21.0->semantic_kernel==1.1.1) (0.18.6)\n",
      "Requirement already satisfied: requests>=2.25 in c:\\users\\katari.asish\\appdata\\roaming\\python\\python311\\site-packages (from prance<24.0.0.0,>=23.6.21.0->semantic_kernel==1.1.1) (2.31.0)\n",
      "Requirement already satisfied: six~=1.15 in c:\\users\\katari.asish\\appdata\\roaming\\python\\python311\\site-packages (from prance<24.0.0.0,>=23.6.21.0->semantic_kernel==1.1.1) (1.16.0)\n",
      "Requirement already satisfied: packaging>=21.3 in c:\\users\\katari.asish\\appdata\\roaming\\python\\python311\\site-packages (from prance<24.0.0.0,>=23.6.21.0->semantic_kernel==1.1.1) (23.2)\n",
      "Requirement already satisfied: PyMeta3>=0.5.1 in c:\\users\\katari.asish\\appdata\\roaming\\python\\python311\\site-packages (from pybars4<0.10.0,>=0.9.13->semantic_kernel==1.1.1) (0.5.1)\n",
      "Requirement already satisfied: annotated-types>=0.4.0 in c:\\users\\katari.asish\\appdata\\roaming\\python\\python311\\site-packages (from pydantic<3,>=2->semantic_kernel==1.1.1) (0.6.0)\n",
      "Requirement already satisfied: pydantic-core==2.18.4 in c:\\users\\katari.asish\\appdata\\roaming\\python\\python311\\site-packages (from pydantic<3,>=2->semantic_kernel==1.1.1) (2.18.4)\n",
      "Requirement already satisfied: python-dotenv>=0.21.0 in c:\\users\\katari.asish\\appdata\\roaming\\python\\python311\\site-packages (from pydantic-settings<3.0.0,>=2.2.1->semantic_kernel==1.1.1) (1.0.1)\n",
      "Requirement already satisfied: idna>=2.8 in c:\\users\\katari.asish\\appdata\\roaming\\python\\python311\\site-packages (from anyio<5,>=3.5.0->openai>=1.0->semantic_kernel==1.1.1) (3.6)\n",
      "Requirement already satisfied: certifi in c:\\users\\katari.asish\\appdata\\roaming\\python\\python311\\site-packages (from httpx<1,>=0.23.0->openai>=1.0->semantic_kernel==1.1.1) (2023.11.17)\n",
      "Requirement already satisfied: httpcore==1.* in c:\\users\\katari.asish\\appdata\\roaming\\python\\python311\\site-packages (from httpx<1,>=0.23.0->openai>=1.0->semantic_kernel==1.1.1) (1.0.5)\n",
      "Requirement already satisfied: h11<0.15,>=0.13 in c:\\users\\katari.asish\\appdata\\roaming\\python\\python311\\site-packages (from httpcore==1.*->httpx<1,>=0.23.0->openai>=1.0->semantic_kernel==1.1.1) (0.14.0)\n",
      "Requirement already satisfied: jsonschema-specifications>=2023.03.6 in c:\\users\\katari.asish\\appdata\\roaming\\python\\python311\\site-packages (from jsonschema<5.0.0,>=4.18.0->openapi_core<0.20,>=0.18->semantic_kernel==1.1.1) (2023.7.1)\n",
      "Requirement already satisfied: referencing>=0.28.4 in c:\\users\\katari.asish\\appdata\\roaming\\python\\python311\\site-packages (from jsonschema<5.0.0,>=4.18.0->openapi_core<0.20,>=0.18->semantic_kernel==1.1.1) (0.30.2)\n",
      "Requirement already satisfied: rpds-py>=0.7.1 in c:\\users\\katari.asish\\appdata\\roaming\\python\\python311\\site-packages (from jsonschema<5.0.0,>=4.18.0->openapi_core<0.20,>=0.18->semantic_kernel==1.1.1) (0.15.2)\n",
      "Requirement already satisfied: PyYAML>=5.1 in c:\\users\\katari.asish\\appdata\\roaming\\python\\python311\\site-packages (from jsonschema-spec<0.3.0,>=0.2.3->openapi_core<0.20,>=0.18->semantic_kernel==1.1.1) (6.0.1)\n",
      "Requirement already satisfied: pathable<0.5.0,>=0.4.1 in c:\\users\\katari.asish\\appdata\\roaming\\python\\python311\\site-packages (from jsonschema-spec<0.3.0,>=0.2.3->openapi_core<0.20,>=0.18->semantic_kernel==1.1.1) (0.4.3)\n",
      "Requirement already satisfied: rfc3339-validator in c:\\users\\katari.asish\\appdata\\roaming\\python\\python311\\site-packages (from openapi-schema-validator<0.7.0,>=0.6.0->openapi_core<0.20,>=0.18->semantic_kernel==1.1.1) (0.1.4)\n",
      "Requirement already satisfied: jsonschema-path<0.4.0,>=0.3.1 in c:\\users\\katari.asish\\appdata\\roaming\\python\\python311\\site-packages (from openapi-spec-validator<0.8.0,>=0.7.1->openapi_core<0.20,>=0.18->semantic_kernel==1.1.1) (0.3.2)\n",
      "Requirement already satisfied: lazy-object-proxy<2.0.0,>=1.7.1 in c:\\users\\katari.asish\\appdata\\roaming\\python\\python311\\site-packages (from openapi-spec-validator<0.8.0,>=0.7.1->openapi_core<0.20,>=0.18->semantic_kernel==1.1.1) (1.10.0)\n",
      "Requirement already satisfied: dnspython<3.0.0,>=1.16.0 in c:\\users\\katari.asish\\appdata\\roaming\\python\\python311\\site-packages (from pymongo<5,>=4.5->motor<4.0.0,>=3.3.2->semantic_kernel==1.1.1) (2.3.0)\n",
      "Requirement already satisfied: charset-normalizer<4,>=2 in c:\\users\\katari.asish\\appdata\\roaming\\python\\python311\\site-packages (from requests>=2.25->prance<24.0.0.0,>=23.6.21.0->semantic_kernel==1.1.1) (3.3.2)\n",
      "Requirement already satisfied: urllib3<3,>=1.21.1 in c:\\users\\katari.asish\\appdata\\roaming\\python\\python311\\site-packages (from requests>=2.25->prance<24.0.0.0,>=23.6.21.0->semantic_kernel==1.1.1) (1.26.18)\n",
      "Requirement already satisfied: ruamel.yaml.clib>=0.2.7 in c:\\users\\katari.asish\\appdata\\roaming\\python\\python311\\site-packages (from ruamel.yaml>=0.17.10->prance<24.0.0.0,>=23.6.21.0->semantic_kernel==1.1.1) (0.2.8)\n",
      "Requirement already satisfied: colorama in c:\\users\\katari.asish\\appdata\\roaming\\python\\python311\\site-packages (from tqdm>4->openai>=1.0->semantic_kernel==1.1.1) (0.4.6)\n"
     ]
    }
   ],
   "source": [
    "%pip install semantic_kernel==1.1.1"
   ]
  },
  {
   "cell_type": "code",
   "execution_count": 2,
   "metadata": {},
   "outputs": [],
   "source": [
    "import os\n",
    "import sys\n",
    "\n",
    "notebook_dir = os.path.abspath(\"C:\\\\Users\\\\katari.asish\\\\.vscode\\\\Semantic_Kernel\\\\joke.ipynb\")\n",
    "parent_dir = os.path.dirname(notebook_dir)\n",
    "grandparent_dir = os.path.dirname(parent_dir)\n",
    "\n",
    "\n",
    "sys.path.append(grandparent_dir)"
   ]
  },
  {
   "cell_type": "code",
   "execution_count": 3,
   "metadata": {},
   "outputs": [],
   "source": [
    "from semantic_kernel import Kernel\n",
    "import asyncio\n",
    "from semantic_kernel.connectors.ai.open_ai import AzureChatCompletion\n",
    "from semantic_kernel.prompt_template import PromptTemplateConfig\n",
    "from dotenv import dotenv_values\n",
    "\n",
    "\n",
    "config = dotenv_values(\"Configuration.env\")\n",
    "kernel = Kernel()\n",
    "\n",
    "kernel = Kernel()"
   ]
  },
  {
   "cell_type": "code",
   "execution_count": 4,
   "metadata": {},
   "outputs": [
    {
     "name": "stdout",
     "output_type": "stream",
     "text": [
      "Defaulting to user installation because normal site-packages is not writeableNote: you may need to restart the kernel to use updated packages.\n",
      "\n",
      "Requirement already satisfied: services in c:\\users\\katari.asish\\appdata\\roaming\\python\\python311\\site-packages (0.1.1)\n",
      "Requirement already satisfied: Click>=6.0 in c:\\users\\katari.asish\\appdata\\roaming\\python\\python311\\site-packages (from services) (8.1.3)\n",
      "Requirement already satisfied: colorama in c:\\users\\katari.asish\\appdata\\roaming\\python\\python311\\site-packages (from Click>=6.0->services) (0.4.6)\n"
     ]
    }
   ],
   "source": [
    "%pip install services"
   ]
  },
  {
   "cell_type": "code",
   "execution_count": 11,
   "metadata": {},
   "outputs": [
    {
     "name": "stdout",
     "output_type": "stream",
     "text": [
      "Defaulting to user installation because normal site-packages is not writeable\n",
      "Collecting service\n",
      "  Downloading service-0.6.0.tar.gz (12 kB)\n",
      "  Installing build dependencies: started\n",
      "  Installing build dependencies: finished with status 'done'\n",
      "  Getting requirements to build wheel: started\n",
      "  Getting requirements to build wheel: finished with status 'done'\n",
      "  Preparing metadata (pyproject.toml): started\n",
      "  Preparing metadata (pyproject.toml): finished with status 'done'\n",
      "Collecting pid>=2.2.3 (from service)\n",
      "  Downloading pid-3.0.4-py2.py3-none-any.whl.metadata (5.0 kB)\n",
      "Collecting python-daemon>=2.1.2 (from service)\n",
      "  Downloading python_daemon-3.0.1-py3-none-any.whl.metadata (2.2 kB)\n",
      "Collecting setproctitle>=1.1.10 (from service)\n",
      "  Downloading setproctitle-1.3.3-cp311-cp311-win_amd64.whl.metadata (10 kB)\n",
      "Requirement already satisfied: psutil>=5.4.8 in c:\\users\\katari.asish\\appdata\\roaming\\python\\python311\\site-packages (from pid>=2.2.3->service) (5.9.7)\n",
      "Collecting docutils (from python-daemon>=2.1.2->service)\n",
      "  Downloading docutils-0.21.2-py3-none-any.whl.metadata (2.8 kB)\n",
      "Collecting lockfile>=0.10 (from python-daemon>=2.1.2->service)\n",
      "  Downloading lockfile-0.12.2-py2.py3-none-any.whl.metadata (2.4 kB)\n",
      "Requirement already satisfied: setuptools>=62.4.0 in c:\\program files\\python311\\lib\\site-packages (from python-daemon>=2.1.2->service) (65.5.0)\n",
      "Downloading pid-3.0.4-py2.py3-none-any.whl (11 kB)\n",
      "Downloading python_daemon-3.0.1-py3-none-any.whl (31 kB)\n",
      "Downloading setproctitle-1.3.3-cp311-cp311-win_amd64.whl (11 kB)\n",
      "Downloading lockfile-0.12.2-py2.py3-none-any.whl (13 kB)\n",
      "Downloading docutils-0.21.2-py3-none-any.whl (587 kB)\n",
      "   ---------------------------------------- 0.0/587.4 kB ? eta -:--:--\n",
      "   ----------- ---------------------------- 163.8/587.4 kB 5.0 MB/s eta 0:00:01\n",
      "   ------------- -------------------------- 194.6/587.4 kB 2.9 MB/s eta 0:00:01\n",
      "   ------------- -------------------------- 194.6/587.4 kB 2.9 MB/s eta 0:00:01\n",
      "   ------------- -------------------------- 194.6/587.4 kB 2.9 MB/s eta 0:00:01\n",
      "   ------------- -------------------------- 194.6/587.4 kB 2.9 MB/s eta 0:00:01\n",
      "   ------------- -------------------------- 194.6/587.4 kB 2.9 MB/s eta 0:00:01\n",
      "   ------------- -------------------------- 194.6/587.4 kB 2.9 MB/s eta 0:00:01\n",
      "   ------------- -------------------------- 194.6/587.4 kB 2.9 MB/s eta 0:00:01\n",
      "   ------------- ------------------------ 204.8/587.4 kB 479.2 kB/s eta 0:00:01\n",
      "   ------------- ------------------------ 204.8/587.4 kB 479.2 kB/s eta 0:00:01\n",
      "   -------------- ----------------------- 225.3/587.4 kB 430.1 kB/s eta 0:00:01\n",
      "   --------------- ---------------------- 245.8/587.4 kB 443.5 kB/s eta 0:00:01\n",
      "   ----------------- -------------------- 266.2/587.4 kB 442.9 kB/s eta 0:00:01\n",
      "   ------------------ ------------------- 286.7/587.4 kB 454.0 kB/s eta 0:00:01\n",
      "   --------------------- ---------------- 327.7/587.4 kB 472.4 kB/s eta 0:00:01\n",
      "   ----------------------- -------------- 358.4/587.4 kB 495.2 kB/s eta 0:00:01\n",
      "   ------------------------- ------------ 399.4/587.4 kB 508.0 kB/s eta 0:00:01\n",
      "   ------------------------- ------------ 399.4/587.4 kB 508.0 kB/s eta 0:00:01\n",
      "   ------------------------- ------------ 399.4/587.4 kB 508.0 kB/s eta 0:00:01\n",
      "   -------------------------- ----------- 409.6/587.4 kB 456.4 kB/s eta 0:00:01\n",
      "   --------------------------- ---------- 430.1/587.4 kB 447.6 kB/s eta 0:00:01\n",
      "   ---------------------------- --------- 440.3/587.4 kB 437.1 kB/s eta 0:00:01\n",
      "   ------------------------------- ------ 481.3/587.4 kB 449.9 kB/s eta 0:00:01\n",
      "   ------------------------------- ------ 491.5/587.4 kB 446.5 kB/s eta 0:00:01\n",
      "   ----------------------------------- -- 542.7/587.4 kB 466.7 kB/s eta 0:00:01\n",
      "   ------------------------------------ - 563.2/587.4 kB 471.8 kB/s eta 0:00:01\n",
      "   -------------------------------------- 587.4/587.4 kB 467.7 kB/s eta 0:00:00\n",
      "Building wheels for collected packages: service\n",
      "  Building wheel for service (pyproject.toml): started\n",
      "  Building wheel for service (pyproject.toml): finished with status 'done'\n",
      "  Created wheel for service: filename=service-0.6.0-py3-none-any.whl size=7397 sha256=04856febdee2ad7981bf060b7efd2cc57c9901befea7927e0d57be086b4d1373\n",
      "  Stored in directory: c:\\users\\katari.asish\\appdata\\local\\pip\\cache\\wheels\\5b\\97\\3e\\21da8304704be2f2f76bf4524ee79e1124b96aab46d112ab19\n",
      "Successfully built service\n",
      "Installing collected packages: lockfile, setproctitle, pid, docutils, python-daemon, service\n",
      "Successfully installed docutils-0.21.2 lockfile-0.12.2 pid-3.0.4 python-daemon-3.0.1 service-0.6.0 setproctitle-1.3.3\n",
      "Note: you may need to restart the kernel to use updated packages.\n"
     ]
    }
   ],
   "source": [
    "%pip install service"
   ]
  },
  {
   "cell_type": "code",
   "execution_count": 5,
   "metadata": {},
   "outputs": [],
   "source": [
    "kernel.add_service(\n",
    "    AzureChatCompletion(\n",
    "        service_id=\"default\",\n",
    "        deployment_name=config[\"AZURE_OPENAI_TEXT_DEPLOYMENT_NAME\"],\n",
    "        api_key=config[\"AZURE_OPENAI_API_KEY\"],\n",
    "        api_version=config[\"AZURE_OPENAI_API_VERSION\"],\n",
    "        endpoint=config[\"AZURE_OPENAI_ENDPOINT\"]\n",
    "    )\n",
    ")"
   ]
  },
  {
   "cell_type": "code",
   "execution_count": 6,
   "metadata": {},
   "outputs": [],
   "source": [
    "plugin = kernel.add_plugin(parent_directory=\"Prompt_template/\", plugin_name=\"FunPlugin\")"
   ]
  },
  {
   "cell_type": "code",
   "execution_count": 12,
   "metadata": {},
   "outputs": [
    {
     "name": "stdout",
     "output_type": "stream",
     "text": [
      "Why did the T-Rex refuse to go on a date with the Stegosaurus? Because he knew it would be a Jurassic disappointment! Super silly, I know, but it still makes me laugh every time I think about it.\n"
     ]
    }
   ],
   "source": [
    "from semantic_kernel.functions import KernelArguments\n",
    "\n",
    "joke_function = plugin[\"Joke\"]\n",
    "\n",
    "joke = await kernel.invoke(\n",
    "    joke_function,\n",
    "    KernelArguments(input=\"time travel to dinosaur age\", style=\"super silly\"),\n",
    ")\n",
    "print(joke)"
   ]
  }
 ],
 "metadata": {
  "kernelspec": {
   "display_name": "Python 3",
   "language": "python",
   "name": "python3"
  },
  "language_info": {
   "codemirror_mode": {
    "name": "ipython",
    "version": 3
   },
   "file_extension": ".py",
   "mimetype": "text/x-python",
   "name": "python",
   "nbconvert_exporter": "python",
   "pygments_lexer": "ipython3",
   "version": "3.11.2"
  }
 },
 "nbformat": 4,
 "nbformat_minor": 2
}
